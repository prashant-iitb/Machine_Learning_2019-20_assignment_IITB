{
  "nbformat": 4,
  "nbformat_minor": 0,
  "metadata": {
    "colab": {
      "name": "final_ML_assignment1___ipynb.ipynb",
      "provenance": [],
      "collapsed_sections": []
    },
    "kernelspec": {
      "display_name": "Python 3",
      "language": "python",
      "name": "python3"
    },
    "language_info": {
      "codemirror_mode": {
        "name": "ipython",
        "version": 3
      },
      "file_extension": ".py",
      "mimetype": "text/x-python",
      "name": "python",
      "nbconvert_exporter": "python",
      "pygments_lexer": "ipython3",
      "version": "3.5.2"
    }
  },
  "cells": [
    {
      "cell_type": "markdown",
      "metadata": {
        "colab_type": "text",
        "id": "13at-uWgvkQP"
      },
      "source": [
        "#Classification using Support Vector Machine\n",
        "Please do not import any other python library except numpy and matplotlib "
      ]
    },
    {
      "cell_type": "code",
      "metadata": {
        "colab_type": "code",
        "id": "JFRYyHWL-tOq",
        "colab": {}
      },
      "source": [
        "import numpy as np\n",
        "import matplotlib.pyplot as plt\n",
        "# import csv\n",
        "import math"
      ],
      "execution_count": 0,
      "outputs": []
    },
    {
      "cell_type": "markdown",
      "metadata": {
        "colab_type": "text",
        "id": "IYcrun6CbQ0L"
      },
      "source": [
        "#Generating Random linearly separable data\n"
      ]
    },
    {
      "cell_type": "code",
      "metadata": {
        "colab_type": "code",
        "id": "2Ene7E42Ytrc",
        "outputId": "52ad0840-2596-4908-dbd6-476748908ca1",
        "colab": {
          "base_uri": "https://localhost:8080/",
          "height": 54
        }
      },
      "source": [
        "data = [[np.random.rand(), np.random.rand()] for i in range(10)]\n",
        "for i, point in enumerate(data):\n",
        "  x, y = point\n",
        "  if 0.5*x - y + 0.25 > 0:\n",
        "    data[i].append(-1)\n",
        "  else:\n",
        "    data[i].append(1)\n",
        "\n",
        "print(data);"
      ],
      "execution_count": 402,
      "outputs": [
        {
          "output_type": "stream",
          "text": [
            "[[0.4394316048262973, 0.673583386239736, 1], [0.6591860236492654, 0.8920676926166262, 1], [0.08286834323174308, 0.5457660481650803, 1], [0.43030818530109227, 0.904519147958625, 1], [0.5968701804220186, 0.06892277537371283, -1], [0.5208752011018054, 0.9150751349734193, 1], [0.5358681705637821, 0.48970035618756336, -1], [0.6558352060718851, 0.0019501560841382881, -1], [0.655784176208069, 0.9634363406873996, 1], [0.625824213499972, 0.2195486624498435, -1]]\n"
          ],
          "name": "stdout"
        }
      ]
    },
    {
      "cell_type": "markdown",
      "metadata": {
        "colab_type": "text",
        "id": "qkrFjTOad2aU"
      },
      "source": [
        "#Visualizing the above data"
      ]
    },
    {
      "cell_type": "code",
      "metadata": {
        "colab_type": "code",
        "id": "VPdWewWZbk1r",
        "outputId": "926ae7d1-ca16-4951-bfbe-377dd0183739",
        "colab": {
          "base_uri": "https://localhost:8080/",
          "height": 269
        }
      },
      "source": [
        "for x, y, l in data:\n",
        "  if l == 1: \n",
        "    clr = 'red'\n",
        "  else: \n",
        "    clr = 'blue'\n",
        "  plt.scatter(x, y, c=clr)\n",
        "  plt.xlim(0,1)\n",
        "  plt.ylim(0,1)"
      ],
      "execution_count": 403,
      "outputs": [
        {
          "output_type": "display_data",
          "data": {
            "image/png": "[encoded data removed]",
            "text/plain": [
              "<Figure size 432x288 with 1 Axes>"
            ]
          },
          "metadata": {
            "tags": []
          }
        }
      ]
    },
    {
      "cell_type": "markdown",
      "metadata": {
        "colab_type": "text",
        "id": "8Ul5Uantin_q"
      },
      "source": [
        "#SVM Classifier\n",
        "Train a SVM classifier using gradient descent and return a Weight Matrix which is a numpy array of length (N + 1) where N is dimension of training samples. \n",
        "You can refer to Fig. 1 in [this](https://www.cs.huji.ac.il/~shais/papers/ShalevSiSrCo10.pdf) paper for implementation. You can add arguments to svm_function according to your implementation."
      ]
    },
    {
      "cell_type": "code",
      "metadata": {
        "colab_type": "code",
        "id": "9y6Jet_QcdBo",
        "colab": {}
      },
      "source": [
        "def svm_function(x, y, epoch, l_rate):\n",
        "    ###################################\n",
        "    # w=[0.0, 0.0, 0.0]# 1,2-> are weight; 3rd-> bias\n",
        "    w= np.zeros(3)\n",
        "    N= len(y)\n",
        "    for i in range(epoch):\n",
        "        it  = np.random.randint(0,N)\n",
        "        eta = 1/(l_rate * (i+1))\n",
        "        loss= y[it] * (np.dot(w,x[it]) )\n",
        "        if loss < 1:\n",
        "          w= (1-eta*l_rate) *w + eta * y[it] * x[it]\n",
        "        else:\n",
        "          w= (1-eta * l_rate)*w\n",
        "    ###################################\n",
        "    return w"
      ],
      "execution_count": 0,
      "outputs": []
    },
    {
      "cell_type": "markdown",
      "metadata": {
        "colab_type": "text",
        "id": "5xSS1Rn5iuLL"
      },
      "source": [
        "#Run SVM Classifier"
      ]
    },
    {
      "cell_type": "code",
      "metadata": {
        "colab_type": "code",
        "id": "LVAtpfnme0J-",
        "outputId": "8b80897b-65c3-4a5d-9cb9-cdfd20c34efa",
        "colab": {
          "base_uri": "https://localhost:8080/",
          "height": 34
        }
      },
      "source": [
        "data = np.asarray(data)\n",
        "X = data[:,:2]\n",
        "b = np.ones((10,1))\n",
        "X= np.hstack((X,b))\n",
        "# print(X)\n",
        "Y = data[:,2]\n",
        "# print(Y)\n",
        "w = svm_function(X, Y, 10000 , 0.0001)\n",
        "print(w)"
      ],
      "execution_count": 405,
      "outputs": [
        {
          "output_type": "stream",
          "text": [
            "[-5.93511369  9.83290714 -3.        ]\n"
          ],
          "name": "stdout"
        }
      ]
    },
    {
      "cell_type": "markdown",
      "metadata": {
        "colab_type": "text",
        "id": "neqORagGixnt"
      },
      "source": [
        "#Visualize the classifier\n",
        "Write a code to draw a lines corrosponding to 'w' vector you got as output from svm_function and for a line from which actual data was generated\n",
        "(0.5*x - y + 0.25). "
      ]
    },
    {
      "cell_type": "code",
      "metadata": {
        "id": "lkyRWfFSw2aq",
        "colab_type": "code",
        "outputId": "73f2e2a5-fabc-4c86-8792-c201db44a864",
        "colab": {
          "base_uri": "https://localhost:8080/",
          "height": 286
        }
      },
      "source": [
        "    ###################################\n",
        "for x, y, l in data:\n",
        "      if l == 1:        #if label equals 1 color red\n",
        "        clr = 'red'\n",
        "      else: \n",
        "        clr = 'blue'  #if label equals -1 color blue\n",
        "      plt.scatter(x, y, c=clr)\n",
        "    \n",
        "plt.xlim(0,1)\n",
        "plt.ylim(0,1)\n",
        "    \n",
        "x1 = np.linspace(0, 1, num=400)\n",
        "y1 = 0.5*x1+0.25\n",
        "plt.plot(x1, y1, c='green')\n",
        "\n",
        "x1 = np.linspace(0, 1, num=400)\n",
        "y1 = (-w[0]/w[1]) * x1 -w[2]/w[1]\n",
        "plt.plot(x1, y1, c='yellow')\n",
        "\n",
        "    ###################################"
      ],
      "execution_count": 406,
      "outputs": [
        {
          "output_type": "execute_result",
          "data": {
            "text/plain": [
              "[<matplotlib.lines.Line2D at 0x7fcb915a2a58>]"
            ]
          },
          "metadata": {
            "tags": []
          },
          "execution_count": 406
        },
        {
          "output_type": "display_data",
          "data": {
            "image/png": "[encoded data removed]",
            "text/plain": [
              "<Figure size 432x288 with 1 Axes>"
            ]
          },
          "metadata": {
            "tags": []
          }
        }
      ]
    },
    {
      "cell_type": "markdown",
      "metadata": {
        "id": "dY3IRad0-Cg8",
        "colab_type": "text"
      },
      "source": [
        "Increase the number of data-points and observe number of epochs to converge. Draw plots showing data-points, actual data seprating line and line corrosponding to 'w' you got from svm_function for 10, 20, 30, 40, 50 and 100 data-points. Please use only one notebook cell for this visualization. Please use subplot function in matplotlib for this."
      ]
    },
    {
      "cell_type": "code",
      "metadata": {
        "id": "o2rqwN3zD1IY",
        "colab_type": "code",
        "outputId": "0fd532fc-7dc1-4e70-a06f-7d03f7c8c8da",
        "colab": {
          "base_uri": "https://localhost:8080/",
          "height": 265
        }
      },
      "source": [
        "    ###################################\n",
        "fig, a= plt.subplots(2,3)\n",
        "num_of_data_points = [10,20,30,40,50,100]\n",
        "\n",
        "for p in range(6):\n",
        "      # Data points generation\n",
        "      data=[]\n",
        "      data = [[np.random.rand(), np.random.rand()] for i in range(num_of_data_points[p])]\n",
        "      for i, point in enumerate(data):\n",
        "        x, y = point\n",
        "        if 0.5*x - y + 0.25 > 0:\n",
        "          data[i].append(-1)\n",
        "        else:\n",
        "          data[i].append(1)\n",
        "\n",
        "      \n",
        "      # SVM function call\n",
        "      data = np.asarray(data)\n",
        "      X = data[:,:2]\n",
        "      b = np.ones((num_of_data_points[p],1))\n",
        "      X= np.hstack((X,b))\n",
        "      Y = data[:,2]\n",
        "      w = svm_function(X, Y, 10000 , 0.0001)\n",
        "\n",
        "      # Ploating\n",
        "      for x, y, l in data:\n",
        "          if l == 1:        #if label equals 1 color red\n",
        "            clr = 'red'\n",
        "          else: \n",
        "            clr = 'blue'  #if label equals -1 color blue\n",
        "          a[p//3][p%3].scatter(x, y, c=clr)\n",
        "        \n",
        "      # a[p//3][p%3].xlim(0,1)\n",
        "      # a[p//3][p%3].ylim(0,1)\n",
        "          \n",
        "      x1 = np.linspace(0, 1, num=400)\n",
        "      y1 = 0.5*x1+0.25\n",
        "      a[p//3][p%3].plot(x1, y1, c='green')\n",
        "\n",
        "      x1 = np.linspace(0, 1, num=400)\n",
        "      y1 = (-w[0]/w[1]) * x1 -w[2]/w[1]\n",
        "      a[p//3][p%3].plot(x1, y1, c='yellow')\n",
        "\n",
        "    ###################################"
      ],
      "execution_count": 407,
      "outputs": [
        {
          "output_type": "display_data",
          "data": {
            "image/png": "[encoded data removed]",
            "text/plain": [
              "<Figure size 432x288 with 6 Axes>"
            ]
          },
          "metadata": {
            "tags": []
          }
        }
      ]
    },
    {
      "cell_type": "markdown",
      "metadata": {
        "colab_type": "text",
        "id": "nybBTVAuv7vX"
      },
      "source": [
        "#Perturbing the previously created  data\n",
        "Add noise to the data and visualize the resulting classifier.\n",
        "\n",
        "\n",
        "\n"
      ]
    },
    {
      "cell_type": "code",
      "metadata": {
        "colab_type": "code",
        "id": "v072suqtiZqP",
        "colab": {}
      },
      "source": [
        "for i in range(len(data)):\n",
        "  data[i][0] += (np.random.rand() - 0.5) / 2.\n",
        "  data[i][1] += (np.random.rand() - 0.5) / 2."
      ],
      "execution_count": 0,
      "outputs": []
    },
    {
      "cell_type": "markdown",
      "metadata": {
        "colab_type": "text",
        "id": "v9cziKy-yzRB"
      },
      "source": [
        "#Visualizing the perturbed Data"
      ]
    },
    {
      "cell_type": "code",
      "metadata": {
        "colab_type": "code",
        "id": "3XCbAHV9v_h4",
        "outputId": "76fd537a-5e35-4e47-9fba-c389eda82701",
        "colab": {
          "base_uri": "https://localhost:8080/",
          "height": 269
        }
      },
      "source": [
        "for x, y, l in data:\n",
        "  if l == 1: \n",
        "    clr = 'red'\n",
        "  else: \n",
        "    clr = 'blue'\n",
        "  plt.scatter(x, y, c=clr)\n",
        "  plt.xlim(-0.5,1.5)\n",
        "  plt.ylim(-0.5,1.5)\n",
        "\n"
      ],
      "execution_count": 409,
      "outputs": [
        {
          "output_type": "display_data",
          "data": {
            "image/png": "[encoded data removed]",
            "text/plain": [
              "<Figure size 432x288 with 1 Axes>"
            ]
          },
          "metadata": {
            "tags": []
          }
        }
      ]
    },
    {
      "cell_type": "markdown",
      "metadata": {
        "colab_type": "text",
        "id": "ytt1BrH_y5ms"
      },
      "source": [
        "#Visualize the classifier trained on noisy data\n",
        "Plot actual seperating line and seperating line you got from svm_classifier. Do this for 10, 20, 30, 40, 50 and 100 data points. You can vary the scale of noise as well. Please use only one notebook cell for this visualization. Please use subplot function in matplotlib for this."
      ]
    },
    {
      "cell_type": "code",
      "metadata": {
        "id": "9cMm9PG4wU1h",
        "colab_type": "code",
        "outputId": "59d1334a-f869-4d93-830d-af3b9ef8249e",
        "colab": {
          "base_uri": "https://localhost:8080/",
          "height": 269
        }
      },
      "source": [
        "    ###################################\n",
        "fig, a= plt.subplots(2,3)\n",
        "# a.set_xlim([-0.5,1.5])\n",
        "# a.set_ylim([-0.5,1.5])\n",
        "num_of_data_points = [10,20,30,40,50,100]\n",
        "\n",
        "for p in range(6):\n",
        "      # Data points generation\n",
        "      data=[]\n",
        "      data = [[np.random.rand(), np.random.rand()] for i in range(num_of_data_points[p])]\n",
        "      for i, point in enumerate(data):\n",
        "          x, y = point\n",
        "          if 0.5*x - y + 0.25 > 0:\n",
        "            data[i].append(-1)\n",
        "          else:\n",
        "            data[i].append(1)\n",
        "          # Noise addition\n",
        "          data[i][0] += (np.random.rand() - 0.5) / 2.\n",
        "          data[i][1] += (np.random.rand() - 0.5) / 2.\n",
        "\n",
        "      \n",
        "      # SVM function call\n",
        "      data = np.asarray(data)\n",
        "      X = data[:,:2]\n",
        "      b = np.ones((num_of_data_points[p],1))\n",
        "      X= np.hstack((X,b))\n",
        "      Y = data[:,2]\n",
        "      w = svm_function(X, Y, 10000 , 0.0001)\n",
        "\n",
        "      # Ploating\n",
        "      for x, y, l in data:\n",
        "          if l == 1:        #if label equals 1 color red\n",
        "            clr = 'red'\n",
        "          else: \n",
        "            clr = 'blue'  #if label equals -1 color blue\n",
        "          a[p//3][p%3].scatter(x, y, c=clr)\n",
        "          a[p//3][p%3].set_xlim(-0.5,1.5)\n",
        "          a[p//3][p%3].set_ylim(-0.5,1.5)\n",
        "      \n",
        "          \n",
        "      x1 = np.linspace(-0.5,1.5, num=400)\n",
        "      y1 = 0.5*x1+0.25\n",
        "      a[p//3][p%3].plot(x1, y1, c='green')\n",
        "\n",
        "      x1 = np.linspace(-0.5,1.5, num=400)\n",
        "      y1 = ((-w[0]/w[1]) * x1) - w[2]/w[1]\n",
        "      a[p//3][p%3].plot(x1, y1, c='yellow')\n",
        "\n",
        "   ###################################"
      ],
      "execution_count": 410,
      "outputs": [
        {
          "output_type": "display_data",
          "data": {
            "image/png": "[encoded data removed]",
            "text/plain": [
              "<Figure size 432x288 with 6 Axes>"
            ]
          },
          "metadata": {
            "tags": []
          }
        }
      ]
    },
    {
      "cell_type": "markdown",
      "metadata": {
        "colab_type": "text",
        "id": "UWE93egabZsN"
      },
      "source": [
        "#Read the Random Non-linear data stored in CSV1 and visualize it"
      ]
    },
    {
      "cell_type": "code",
      "metadata": {
        "id": "8ypsb9HEwUFc",
        "colab_type": "code",
        "outputId": "a6e0d063-a224-4c2b-8a9e-cec4cdd49a0f",
        "colab": {
          "base_uri": "https://localhost:8080/",
          "height": 323
        }
      },
      "source": [
        "################################################\n",
        "filename = \"csv1.csv\"\n",
        "data = [] \n",
        "  \n",
        "# reading csv file \n",
        "with open(filename, 'r') as csvfile: \n",
        "    csvreader = csv.reader(csvfile, quoting=csv.QUOTE_NONNUMERIC) \n",
        "    # extracting each data row one by one \n",
        "    for row in csvreader: \n",
        "        data.append(row) \n",
        "\n",
        "print(data)\n",
        "print(len(data))\n",
        "################################################\n",
        "\n",
        "\n",
        "###################################################\n",
        "for x, y, l in data:\n",
        "  if l == 1: \n",
        "    clr = 'red'\n",
        "  else: \n",
        "    clr = 'blue'\n",
        "  plt.scatter(x, y, c=clr)\n",
        "  plt.xlim(-1,1)\n",
        "  plt.ylim(-1,1)\n",
        "\n",
        "###################################################"
      ],
      "execution_count": 411,
      "outputs": [
        {
          "output_type": "stream",
          "text": [
            "[[0.46475620712369237, -0.2994625426067885, 1.0], [-0.6703580972991452, 0.9943462351571706, -1.0], [0.7121569052671908, 0.8151667413744057, -1.0], [0.6403500804975031, -0.3634788231670616, -1.0], [-0.6560523349537439, -0.3926653849367301, -1.0], [0.6283681830896091, -0.34037400929719164, -1.0], [-0.8623180581530681, -0.6382047682353393, -1.0], [-0.9265627679513193, 0.1090203540143364, -1.0], [-0.1805460669863186, 0.7068242461103402, -1.0], [-0.1757884168006798, -0.17438402046539747, 1.0]]\n",
            "10\n"
          ],
          "name": "stdout"
        },
        {
          "output_type": "display_data",
          "data": {
            "image/png": "[encoded data removed]",
            "text/plain": [
              "<Figure size 432x288 with 1 Axes>"
            ]
          },
          "metadata": {
            "tags": []
          }
        }
      ]
    },
    {
      "cell_type": "markdown",
      "metadata": {
        "id": "alWwrjazvVLl",
        "colab_type": "text"
      },
      "source": [
        "#Train a SVM classifier on the linearly non-separable data by appropriate features crafted from input data\n",
        "For linearly non-separable data, you need to transform the data in a space where it can be linearly seprable. These features can be exponential, polynomial, trignometric or any other function of actual input features. For example, if your input data is (x1, x2) you can have hand-crafted features as (sin(x1), cos(x1), cos(x2), x1-x2). \n",
        "Here you need to think of which hand-crafted features can be best suited for data given to you. Write a function to convert input features to hand-crafted features. Use these features to train a SVM using svm_function.\n",
        "Note that, if you choose to have L hand-crafted features, SVM will return L+1 dimensional 'w'. \n"
      ]
    },
    {
      "cell_type": "code",
      "metadata": {
        "id": "gCzlFpckwVzO",
        "colab_type": "code",
        "outputId": "cfd39936-70bc-41ad-c054-889c0937cf22",
        "colab": {
          "base_uri": "https://localhost:8080/",
          "height": 88
        }
      },
      "source": [
        "################################################\n",
        "### Write your code here for features###########\n",
        "print(data)\n",
        "X=[]\n",
        "for i, point in enumerate(data):\n",
        "    x_1,y_1,val= point\n",
        "    X.append([x_1*x_1, x_1, y_1*y_1, y_1, 1])\n",
        "print(X)\n",
        "################################################\n",
        "\n",
        "\n",
        "######################################################\n",
        "### Write your code here for classification###########\n",
        "# SVM function call\n",
        "data = np.asarray(data)\n",
        "X=  np.asarray(X)\n",
        "Y = data[:,2]\n",
        "\n",
        "# w=[x^2,x,y^2,y,bias]\n",
        "l_rate=0.0001\n",
        "w= np.zeros(5)\n",
        "N= len(Y)\n",
        "for i in range(10000):\n",
        "    it  = np.random.randint(0,N)\n",
        "    eta = 1/(l_rate * (i+1))\n",
        "    loss= Y[it] * (np.dot(w,X[it]) )\n",
        "    if loss < 1:\n",
        "      w= (1-eta*l_rate) *w + eta * Y[it] * X[it]\n",
        "    else:\n",
        "      w= (1-eta * l_rate)*w\n",
        "\n",
        "\n",
        "print(w)  \n",
        "#Print(data), #Print(X), #Print(X)\n",
        "######################################################\n"
      ],
      "execution_count": 412,
      "outputs": [
        {
          "output_type": "stream",
          "text": [
            "[[0.46475620712369237, -0.2994625426067885, 1.0], [-0.6703580972991452, 0.9943462351571706, -1.0], [0.7121569052671908, 0.8151667413744057, -1.0], [0.6403500804975031, -0.3634788231670616, -1.0], [-0.6560523349537439, -0.3926653849367301, -1.0], [0.6283681830896091, -0.34037400929719164, -1.0], [-0.8623180581530681, -0.6382047682353393, -1.0], [-0.9265627679513193, 0.1090203540143364, -1.0], [-0.1805460669863186, 0.7068242461103402, -1.0], [-0.1757884168006798, -0.17438402046539747, 1.0]]\n",
            "[[0.21599833206000044, 0.46475620712369237, 0.08967781442452262, -0.2994625426067885, 1], [0.4493799786145302, -0.6703580972991452, 0.9887244353712392, 0.9943462351571706, 1], [0.5071674577197426, 0.7121569052671908, 0.6644968162429672, 0.8151667413744057, 1], [0.4100482255931587, 0.6403500804975031, 0.13211685489091204, -0.3634788231670616, 1], [0.4304046661982594, -0.6560523349537439, 0.15418610452751041, -0.3926653849367301, 1], [0.39484657351933644, 0.6283681830896091, 0.11585446620504469, -0.34037400929719164, 1], [0.7435924334168781, -0.8623180581530681, 0.4073053261983232, -0.6382047682353393, 1], [0.8585185629536104, -0.9265627679513193, 0.011885437589411236, 0.1090203540143364, 1], [0.03259688230422824, -0.1805460669863186, 0.4996005148894508, 0.7068242461103402, 1], [0.030901567481289527, -0.1757884168006798, 0.030409786593676165, -0.17438402046539747, 1]]\n",
            "[-12.38552111   0.64463513  -4.8946278   -2.8072445    3.        ]\n"
          ],
          "name": "stdout"
        }
      ]
    },
    {
      "cell_type": "markdown",
      "metadata": {
        "id": "iN_UcRMNRGWN",
        "colab_type": "text"
      },
      "source": [
        "#Visualize decision boundary\n",
        "Here, as 'w' retuened by svm_function is (L+1) dimensional, you can not visualize it in the form of line in 2D. To visualize non-linear decision boundary in 2D, you can generate few hundred random data-points and can observe if classifier labels them +1 or -1. Then you can plot this points with different colors to get emperical decision boundary. Write the code for visualization of non-linear decision boundary in next cell."
      ]
    },
    {
      "cell_type": "code",
      "metadata": {
        "id": "bBIXZbAnSlNa",
        "colab_type": "code",
        "colab": {
          "base_uri": "https://localhost:8080/",
          "height": 265
        },
        "outputId": "31ef7ac1-cc07-48e9-a6b5-b1d13371fb98"
      },
      "source": [
        "###################################\n",
        "# Random data points\n",
        "random_data = [[np.random.rand(), np.random.rand()] for i in range(8000)]\n",
        "for i, point in enumerate(random_data):\n",
        "  x, y = point\n",
        "  if (i > 2000 and i < 4000):\n",
        "    x= -1*x\n",
        "  if (i > 4000 and i < 6000):\n",
        "    x= -1*x\n",
        "    y= -1*y\n",
        "  if (i > 6000 and i < 8000):\n",
        "    y= -1*y\n",
        "  input=[x*x, x, y*y, y, 1]\n",
        "  if np.dot(w,input) > 0:\n",
        "    random_data[i].append(-1)\n",
        "  else:\n",
        "    random_data[i].append(1)\n",
        "\n",
        "# Plotting\n",
        "for i, point in enumerate(random_data):\n",
        "  x, y, l = point\n",
        "  if (i > 2000 and i < 4000):\n",
        "    x= -1*x\n",
        "  if (i > 4000 and i < 6000):\n",
        "    x= -1*x\n",
        "    y= -1*y\n",
        "  if (i > 6000 and i < 8000):\n",
        "    y= -1*y\n",
        "  if l == 1: \n",
        "    clr = 'yellow'\n",
        "  else: \n",
        "    clr = 'green'\n",
        "  plt.scatter(x, y, c=clr)\n",
        "\n",
        "for x, y, l in data:\n",
        "  if l == 1: \n",
        "    clr = 'red'\n",
        "  else: \n",
        "    clr = 'blue'\n",
        "  plt.scatter(x, y, c=clr)\n",
        "\n",
        "###################################"
      ],
      "execution_count": 413,
      "outputs": [
        {
          "output_type": "display_data",
          "data": {
            "image/png": "[encoded data removed]",
            "text/plain": [
              "<Figure size 432x288 with 1 Axes>"
            ]
          },
          "metadata": {
            "tags": []
          }
        }
      ]
    },
    {
      "cell_type": "markdown",
      "metadata": {
        "id": "iUk6uoThwZMp",
        "colab_type": "text"
      },
      "source": [
        "#Read the Random Non-linear data stored in CSV2"
      ]
    },
    {
      "cell_type": "code",
      "metadata": {
        "id": "Xbba53QawbRW",
        "colab_type": "code",
        "outputId": "0f8720ba-b89a-4199-f9dd-24067ad7789d",
        "colab": {
          "base_uri": "https://localhost:8080/",
          "height": 340
        }
      },
      "source": [
        "###################################\n",
        "filename = \"csv2.csv\"\n",
        "data = [] \n",
        "  \n",
        "# reading csv file \n",
        "with open(filename, 'r') as csvfile: \n",
        "    csvreader = csv.reader(csvfile, quoting=csv.QUOTE_NONNUMERIC) \n",
        "    # extracting each data row one by one \n",
        "    for row in csvreader: \n",
        "        data.append(row) \n",
        "\n",
        "print(data)\n",
        "print(len(data))\n",
        "###################################\n",
        "###################################################\n",
        "for x, y, l in data:\n",
        "  if l == 1: \n",
        "    clr = 'red'\n",
        "  else: \n",
        "    clr = 'blue'\n",
        "  plt.scatter(x, y, c=clr)\n",
        "  if l == 1: \n",
        "    clr = 'red'\n",
        "  else: \n",
        "    clr = 'blue'\n",
        "  plt.scatter(x, y, c=clr)\n",
        "plt.xlim(-1,1)\n",
        "plt.ylim(-1,1)\n",
        "\n",
        "###################################################"
      ],
      "execution_count": 414,
      "outputs": [
        {
          "output_type": "stream",
          "text": [
            "[[-0.03621737694143157, 0.15463753311411588, 1.0], [0.1418356661813347, 0.33244372498596153, 1.0], [-0.23726681804001726, 0.5259723110287635, 1.0], [-0.058682400846666205, -0.22853723232915724, 1.0], [0.8899755261612874, -0.6464317713775336, -1.0], [0.5206454677854391, 0.8200039874435789, -1.0], [-0.543631224235561, -0.8053958087859625, -1.0], [0.08986461733695972, -0.5049755854294111, 1.0], [0.08509729544021027, -0.7000880424934659, 1.0], [0.8879327467155786, 0.6659365237523611, -1.0], [-0.1476481825522007, 0.9705572950070864, -1.0], [-0.46495705378423446, -0.7529259179237515, -1.0], [0.6611551670104756, -0.9311339554247016, -1.0], [-0.4720378825692142, -0.7948599447030564, -1.0], [-0.12860770978016456, -0.09869221521651328, 1.0], [0.009246221816440636, 0.18241053237656857, 1.0], [-0.9625715269812947, -0.9358897476856523, -1.0], [0.6461934150769981, 0.3041479261125106, -1.0], [0.42390134425476056, -0.16373259481143543, 1.0], [0.32129598976152174, 0.42369180991812216, 1.0]]\n",
            "20\n"
          ],
          "name": "stdout"
        },
        {
          "output_type": "execute_result",
          "data": {
            "text/plain": [
              "(-1, 1)"
            ]
          },
          "metadata": {
            "tags": []
          },
          "execution_count": 414
        },
        {
          "output_type": "display_data",
          "data": {
            "image/png": "[encoded data removed]",
            "text/plain": [
              "<Figure size 432x288 with 1 Axes>"
            ]
          },
          "metadata": {
            "tags": []
          }
        }
      ]
    },
    {
      "cell_type": "markdown",
      "metadata": {
        "id": "mZ3PDED_wd41",
        "colab_type": "text"
      },
      "source": [
        "#Train a SVM classifier on the non linear data by appropriate features and also visualise it"
      ]
    },
    {
      "cell_type": "code",
      "metadata": {
        "id": "-_mwG4Ffwe8V",
        "colab_type": "code",
        "colab": {
          "base_uri": "https://localhost:8080/",
          "height": 336
        },
        "outputId": "936ed7dc-e764-40e5-8331-c064b0331aa1"
      },
      "source": [
        "\n",
        "################################################\n",
        "### Write your code here for features###########\n",
        "print(data)\n",
        "X=[]\n",
        "for i, point in enumerate(data):\n",
        "    x_1,y_1,val= point\n",
        "    X.append([x_1*x_1, x_1, y_1*y_1, y_1, 1])\n",
        "print(X)\n",
        "################################################\n",
        "\n",
        "\n",
        "######################################################\n",
        "### Write your code here for classification###########\n",
        "# SVM function call\n",
        "data = np.asarray(data)\n",
        "X=  np.asarray(X)\n",
        "Y = data[:,2]\n",
        "\n",
        "# w=[x^2,x,y^2,y,bias]\n",
        "l_rate=0.0001\n",
        "w= np.zeros(5)\n",
        "N= len(Y)\n",
        "for i in range(10000):\n",
        "    it  = np.random.randint(0,N)\n",
        "    eta = 1/(l_rate * (i+1))\n",
        "    loss= Y[it] * (np.dot(w,X[it]) )\n",
        "    if loss < 1:\n",
        "      w= (1-eta*l_rate) *w + eta * Y[it] * X[it]\n",
        "    else:\n",
        "      w= (1-eta * l_rate)*w\n",
        "\n",
        "\n",
        "print(w)  \n",
        "#Print(data), #Print(X), #Print(X)\n",
        "######################################################\n",
        "### Write your code here for visualization###########\n",
        "# Random data points\n",
        "random_data = [[np.random.rand(), np.random.rand()] for i in range(8000)]\n",
        "for i, point in enumerate(random_data):\n",
        "  x, y = point\n",
        "  if (i > 2000 and i < 4000):\n",
        "    x= -1*x\n",
        "  if (i > 4000 and i < 6000):\n",
        "    x= -1*x\n",
        "    y= -1*y\n",
        "  if (i > 6000 and i < 8000):\n",
        "    y= -1*y\n",
        "  input=[x*x, x, y*y, y, 1]\n",
        "  if np.dot(w,input) > 0:\n",
        "    random_data[i].append(-1)\n",
        "  else:\n",
        "    random_data[i].append(1)\n",
        "\n",
        "# Plotting\n",
        "for i, point in enumerate(random_data):\n",
        "  x, y, l = point\n",
        "  if (i > 2000 and i < 4000):\n",
        "    x= -1*x\n",
        "  if (i > 4000 and i < 6000):\n",
        "    x= -1*x\n",
        "    y= -1*y\n",
        "  if (i > 6000 and i < 8000):\n",
        "    y= -1*y\n",
        "  if l == 1: \n",
        "    clr = 'yellow'\n",
        "  else: \n",
        "    clr = 'green'\n",
        "  plt.scatter(x, y, c=clr)\n",
        "\n",
        "for x, y, l in data:\n",
        "  if l == 1: \n",
        "    clr = 'red'\n",
        "  else: \n",
        "    clr = 'blue'\n",
        "  plt.scatter(x, y, c=clr)\n",
        "###################################"
      ],
      "execution_count": 415,
      "outputs": [
        {
          "output_type": "stream",
          "text": [
            "[[-0.03621737694143157, 0.15463753311411588, 1.0], [0.1418356661813347, 0.33244372498596153, 1.0], [-0.23726681804001726, 0.5259723110287635, 1.0], [-0.058682400846666205, -0.22853723232915724, 1.0], [0.8899755261612874, -0.6464317713775336, -1.0], [0.5206454677854391, 0.8200039874435789, -1.0], [-0.543631224235561, -0.8053958087859625, -1.0], [0.08986461733695972, -0.5049755854294111, 1.0], [0.08509729544021027, -0.7000880424934659, 1.0], [0.8879327467155786, 0.6659365237523611, -1.0], [-0.1476481825522007, 0.9705572950070864, -1.0], [-0.46495705378423446, -0.7529259179237515, -1.0], [0.6611551670104756, -0.9311339554247016, -1.0], [-0.4720378825692142, -0.7948599447030564, -1.0], [-0.12860770978016456, -0.09869221521651328, 1.0], [0.009246221816440636, 0.18241053237656857, 1.0], [-0.9625715269812947, -0.9358897476856523, -1.0], [0.6461934150769981, 0.3041479261125106, -1.0], [0.42390134425476056, -0.16373259481143543, 1.0], [0.32129598976152174, 0.42369180991812216, 1.0]]\n",
            "[[0.001311698392517739, -0.03621737694143157, 0.023912766647619283, 0.15463753311411588, 1], [0.020117356201103012, 0.1418356661813347, 0.11051883028254163, 0.33244372498596153, 1], [0.05629554294283466, -0.23726681804001726, 0.27664687196893833, 0.5259723110287635, 1], [0.0034436241691288105, -0.058682400846666205, 0.05222926656067119, -0.22853723232915724, 1], [0.7920564371660603, 0.8899755261612874, 0.4178740350462959, -0.6464317713775336, 1], [0.2710717031255187, 0.5206454677854391, 0.6724065394233691, 0.8200039874435789, 1], [0.2955349079638548, -0.543631224235561, 0.6486624088099947, -0.8053958087859625, 1], [0.008075649449118202, 0.08986461733695972, 0.2550003418797765, -0.5049755854294111, 1], [0.007241549691238433, 0.08509729544021027, 0.4901232672423329, -0.7000880424934659, 1], [0.7884245626898719, 0.8879327467155786, 0.443471453667379, 0.6659365237523611, 1], [0.02179998581096798, -0.1476481825522007, 0.9419814628914726, 0.9705572950070864, 1], [0.2161850618637155, -0.46495705378423446, 0.5668974378813239, -0.7529259179237515, 1], [0.4371261548646499, 0.6611551670104756, 0.8670104429448501, -0.9311339554247016, 1], [0.22281976258042724, -0.4720378825692142, 0.6318023316933459, -0.7948599447030564, 1], [0.016539943014899035, -0.12860770978016456, 0.009740153344342575, -0.09869221521651328, 1], [8.549261787882277e-05, 0.009246221816440636, 0.03327360232190317, 0.18241053237656857, 1], [0.9265439445551013, -0.9625715269812947, 0.8758896198231139, -0.9358897476856523, 1], [0.41756592968887357, 0.6461934150769981, 0.09250596095854122, 0.3041479261125106, 1], [0.179692349660993, 0.42390134425476056, 0.02680836260368569, -0.16373259481143543, 1], [0.10323111303683588, 0.32129598976152174, 0.17951474979169416, 0.42369180991812216, 1]]\n",
            "[-11.46710019  -0.06380922  -5.32105986  -0.31343754   4.        ]\n"
          ],
          "name": "stdout"
        },
        {
          "output_type": "display_data",
          "data": {
            "image/png": "[encoded data removed]",
            "text/plain": [
              "<Figure size 432x288 with 1 Axes>"
            ]
          },
          "metadata": {
            "tags": []
          }
        }
      ]
    },
    {
      "cell_type": "markdown",
      "metadata": {
        "id": "y_0tNAPtwfx3",
        "colab_type": "text"
      },
      "source": [
        "#Read the Random Non-linear data stored in CSV3"
      ]
    },
    {
      "cell_type": "code",
      "metadata": {
        "id": "vI8OP9mUwhmy",
        "colab_type": "code",
        "outputId": "87a1ba1b-63f5-4849-dcb9-666843416f63",
        "colab": {
          "base_uri": "https://localhost:8080/",
          "height": 323
        }
      },
      "source": [
        "###################################\n",
        "filename = \"csv3.csv\"\n",
        "data = [] \n",
        "  \n",
        "# reading csv file \n",
        "with open(filename, 'r') as csvfile: \n",
        "    csvreader = csv.reader(csvfile, quoting=csv.QUOTE_NONNUMERIC) \n",
        "    # extracting each data row one by one \n",
        "    for row in csvreader: \n",
        "        data.append(row) \n",
        "\n",
        "print(data)\n",
        "print(len(data))\n",
        "###################################\n",
        "###################################################\n",
        "for x, y, l in data:\n",
        "  # x= np.sqrt(x)\n",
        "  # y= np.sqrt(y)\n",
        "  if l == 1: \n",
        "    clr = 'red'\n",
        "  else: \n",
        "    clr = 'blue'\n",
        "  # plt.scatter(x, y, c=clr)\n",
        "  # plt.xlim(-0.5,1.5)\n",
        "  plt.ylim(-0.5,1.5)\n",
        "  # plt.xlim(-10,10)\n",
        "  # plt.ylim(-10,10)\n",
        "  if l == 1: \n",
        "    clr = 'red'\n",
        "  else: \n",
        "    clr = 'blue'\n",
        "  plt.scatter(x, y, c=clr)\n",
        "\n",
        "###################################################"
      ],
      "execution_count": 416,
      "outputs": [
        {
          "output_type": "stream",
          "text": [
            "[[0.27180822257104964, 0.8792198586107203, -1.0], [0.5525332684844118, -0.11938114471943417, 1.0], [-0.2934848151338447, 0.13304465482814143, 1.0], [-0.47743136295051647, -0.10440861618632669, 1.0], [-0.5645078184215817, 0.8804284125457227, -1.0], [0.5716555719585168, 0.9391866419955728, -1.0], [-0.9924862136611581, -0.644711677251079, -1.0], [0.9041129536484194, -0.9638321630107907, -1.0], [0.6546997983584892, -0.0923105779151514, 1.0], [0.23191680786685742, 0.9202979553125221, -1.0], [0.8335673407391584, 0.13604458385078044, -1.0], [-0.028186337653903992, -0.27761032272994446, 1.0], [-0.4594848216174432, -0.8640634509697593, -1.0], [0.39725768890884483, -0.26911991983668093, 1.0], [-0.19157896760680737, -0.8751057563709768, -1.0], [0.3664241310171745, 0.5899083636915479, 1.0], [0.5335968736540888, 0.11794347177765219, 1.0], [-0.6250865189582453, 0.4658815575606001, -1.0], [0.6111650333468821, 0.9045409646147806, -1.0], [-0.8916712209043254, -0.05126185800908556, -1.0], [-0.5818175515862372, -0.7348845512373436, -1.0], [-0.7859621166034685, 0.04355831161278578, -1.0], [0.8558535259443105, -0.6187742635169404, -1.0], [-0.37375469360296587, 0.6767127116609595, -1.0], [0.24725572016955288, -0.771740414004654, -1.0], [-0.9475960065466467, 0.09148164447162155, -1.0], [-0.23230609235824828, -0.2442521347104425, 1.0], [-0.5938857581083272, -0.9018603047741254, -1.0], [0.9260234645143928, -0.6045187613221876, -1.0], [-0.3184921156632712, 0.24038543788495237, 1.0]]\n",
            "30\n"
          ],
          "name": "stdout"
        },
        {
          "output_type": "display_data",
          "data": {
            "image/png": "[encoded data removed]",
            "text/plain": [
              "<Figure size 432x288 with 1 Axes>"
            ]
          },
          "metadata": {
            "tags": []
          }
        }
      ]
    },
    {
      "cell_type": "markdown",
      "metadata": {
        "id": "xLj09HhhwiAO",
        "colab_type": "text"
      },
      "source": [
        "#Train a SVM classifier on the non linear data by appropriate Feature Engineering and also visualise it"
      ]
    },
    {
      "cell_type": "code",
      "metadata": {
        "id": "_M04CZx_wi-U",
        "colab_type": "code",
        "colab": {
          "base_uri": "https://localhost:8080/",
          "height": 336
        },
        "outputId": "7786951f-4027-4aa0-d1a5-8b557a3cf0d9"
      },
      "source": [
        "################################################\n",
        "### Write your code here for features###########\n",
        "print(data)\n",
        "X=[]\n",
        "for i, point in enumerate(data):\n",
        "    x_1,y_1,val= point\n",
        "    X.append([x_1*x_1, x_1, y_1*y_1, y_1, 1])\n",
        "print(X)\n",
        "################################################\n",
        "\n",
        "\n",
        "######################################################\n",
        "### Write your code here for classification###########\n",
        "# SVM function call\n",
        "data = np.asarray(data)\n",
        "X=  np.asarray(X)\n",
        "Y = data[:,2]\n",
        "\n",
        "# w=[x^2,x,y^2,y,bias]\n",
        "l_rate=0.0001\n",
        "w= np.zeros(5)\n",
        "N= len(Y)\n",
        "for i in range(10000):\n",
        "    it  = np.random.randint(0,N)\n",
        "    eta = 1/(l_rate * (i+1))\n",
        "    loss= Y[it] * (np.dot(w,X[it]) )\n",
        "    if loss < 1:\n",
        "      w= (1-eta*l_rate) *w + eta * Y[it] * X[it]\n",
        "    else:\n",
        "      w= (1-eta * l_rate)*w\n",
        "\n",
        "\n",
        "print(w)  \n",
        "#Print(data), #Print(X), #Print(X)\n",
        "######################################################\n",
        "### Write your code here for visualization###########\n",
        "# Random data points\n",
        "random_data = [[np.random.rand(), np.random.rand()] for i in range(8000)]\n",
        "for i, point in enumerate(random_data):\n",
        "  x, y = point\n",
        "  if (i > 2000 and i < 4000):\n",
        "    x= -1*x\n",
        "  if (i > 4000 and i < 6000):\n",
        "    x= -1*x\n",
        "    y= -1*y\n",
        "  if (i > 6000 and i < 8000):\n",
        "    y= -1*y\n",
        "  input=[x*x, x, y*y, y, 1]\n",
        "  if np.dot(w,input) > 0:\n",
        "    random_data[i].append(-1)\n",
        "  else:\n",
        "    random_data[i].append(1)\n",
        "\n",
        "# Plotting\n",
        "for i, point in enumerate(random_data):\n",
        "  x, y, l = point\n",
        "  if (i > 2000 and i < 4000):\n",
        "    x= -1*x\n",
        "  if (i > 4000 and i < 6000):\n",
        "    x= -1*x\n",
        "    y= -1*y\n",
        "  if (i > 6000 and i < 8000):\n",
        "    y= -1*y\n",
        "  if l == 1: \n",
        "    clr = 'yellow'\n",
        "  else: \n",
        "    clr = 'green'\n",
        "  plt.scatter(x, y, c=clr)\n",
        "\n",
        "for x, y, l in data:\n",
        "  if l == 1: \n",
        "    clr = 'red'\n",
        "  else: \n",
        "    clr = 'blue'\n",
        "  plt.scatter(x, y, c=clr)\n",
        "###################################"
      ],
      "execution_count": 417,
      "outputs": [
        {
          "output_type": "stream",
          "text": [
            "[[0.27180822257104964, 0.8792198586107203, -1.0], [0.5525332684844118, -0.11938114471943417, 1.0], [-0.2934848151338447, 0.13304465482814143, 1.0], [-0.47743136295051647, -0.10440861618632669, 1.0], [-0.5645078184215817, 0.8804284125457227, -1.0], [0.5716555719585168, 0.9391866419955728, -1.0], [-0.9924862136611581, -0.644711677251079, -1.0], [0.9041129536484194, -0.9638321630107907, -1.0], [0.6546997983584892, -0.0923105779151514, 1.0], [0.23191680786685742, 0.9202979553125221, -1.0], [0.8335673407391584, 0.13604458385078044, -1.0], [-0.028186337653903992, -0.27761032272994446, 1.0], [-0.4594848216174432, -0.8640634509697593, -1.0], [0.39725768890884483, -0.26911991983668093, 1.0], [-0.19157896760680737, -0.8751057563709768, -1.0], [0.3664241310171745, 0.5899083636915479, 1.0], [0.5335968736540888, 0.11794347177765219, 1.0], [-0.6250865189582453, 0.4658815575606001, -1.0], [0.6111650333468821, 0.9045409646147806, -1.0], [-0.8916712209043254, -0.05126185800908556, -1.0], [-0.5818175515862372, -0.7348845512373436, -1.0], [-0.7859621166034685, 0.04355831161278578, -1.0], [0.8558535259443105, -0.6187742635169404, -1.0], [-0.37375469360296587, 0.6767127116609595, -1.0], [0.24725572016955288, -0.771740414004654, -1.0], [-0.9475960065466467, 0.09148164447162155, -1.0], [-0.23230609235824828, -0.2442521347104425, 1.0], [-0.5938857581083272, -0.9018603047741254, -1.0], [0.9260234645143928, -0.6045187613221876, -1.0], [-0.3184921156632712, 0.24038543788495237, 1.0]]\n",
            "[[0.07387970985723326, 0.27180822257104964, 0.7730275597754549, 0.8792198586107203, 1], [0.30529301278206705, 0.5525332684844118, 0.014251857714522486, -0.11938114471943417, 1], [0.08613333671414701, -0.2934848151338447, 0.017700880178339297, 0.13304465482814143, 1], [0.2279407063287878, -0.47743136295051647, 0.01090115913394368, -0.10440861618632669, 1], [0.3186690770590935, -0.5645078184215817, 0.7751541896177813, 0.8804284125457227, 1], [0.32679009295121897, 0.5716555719585168, 0.8820715485029202, 0.9391866419955728, 1], [0.9850288843074619, -0.9924862136611581, 0.4156531467838995, -0.644711677251079, 1], [0.8174202329548689, 0.9041129536484194, 0.9289724384540593, -0.9638321630107907, 1], [0.4286318259706465, 0.6546997983584892, 0.008521242795029239, -0.0923105779151514, 1], [0.05378540577115286, 0.23191680786685742, 0.8469483265524089, 0.9202979553125221, 1], [0.6948345115469522, 0.8335673407391584, 0.018508128795132032, 0.13604458385078044, 1], [0.000794469630339886, -0.028186337653903992, 0.07706749128622392, -0.27761032272994446, 1], [0.2111263012968136, -0.4594848216174432, 0.7466056473017697, -0.8640634509697593, 1], [0.15781367139719654, 0.39725768890884483, 0.07242553125290158, -0.26911991983668093, 1], [0.03670250082929015, -0.19157896760680737, 0.7658100848336193, -0.8751057563709768, 1], [0.13426664379169148, 0.3664241310171745, 0.3479918775532395, 0.5899083636915479, 1], [0.28472562357341763, 0.5335968736540888, 0.013910662534965838, 0.11794347177765219, 1], [0.39073315618333676, -0.6250865189582453, 0.21704562567509075, 0.4658815575606001, 1], [0.3735226979858955, 0.6111650333468821, 0.8181943566662379, 0.9045409646147806, 1], [0.7950775661890103, -0.8916712209043254, 0.0026277780865436493, -0.05126185800908556, 1], [0.3385116633338037, -0.5818175515862372, 0.5400553036473119, -0.7348845512373436, 1], [0.6177364487358042, -0.7859621166034685, 0.0018973265105565488, 0.04355831161278578, 1], [0.7324852578713086, 0.8558535259443105, 0.382881589190932, -0.6187742635169404, 1], [0.1396925709902469, -0.37375469360296587, 0.4579400941235289, 0.6767127116609595, 1], [0.06113539115656424, 0.24725572016955288, 0.5955832666080747, -0.771740414004654, 1], [0.8979381916231525, -0.9475960065466467, 0.008368891275232165, 0.09148164447162155, 1], [0.053966120546758985, -0.23230609235824828, 0.05965910531060815, -0.2442521347104425, 1], [0.35270029368390254, -0.5938857581083272, 0.8133520093272784, -0.9018603047741254, 1], [0.8575194568312389, 0.9260234645143928, 0.36544293279051204, -0.6045187613221876, 1], [0.10143722773966651, -0.3184921156632712, 0.05778515874714029, 0.24038543788495237, 1]]\n",
            "[-11.77277461   1.9259704  -10.26385205   0.97239517   5.        ]\n"
          ],
          "name": "stdout"
        },
        {
          "output_type": "display_data",
          "data": {
            "image/png": "[encoded data removed]",
            "text/plain": [
              "<Figure size 432x288 with 1 Axes>"
            ]
          },
          "metadata": {
            "tags": []
          }
        }
      ]
    }
  ]
}